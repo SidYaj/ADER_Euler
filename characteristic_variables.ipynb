{
 "cells": [
  {
   "cell_type": "code",
   "execution_count": 1,
   "metadata": {},
   "outputs": [],
   "source": [
    "import sympy as sp"
   ]
  },
  {
   "cell_type": "code",
   "execution_count": 2,
   "metadata": {},
   "outputs": [],
   "source": [
    "rho, e = sp.symbols(r'\\rho e', positive=True)"
   ]
  },
  {
   "cell_type": "code",
   "execution_count": 3,
   "metadata": {},
   "outputs": [],
   "source": [
    "q = sp.symbols('q', real=True)"
   ]
  },
  {
   "cell_type": "code",
   "execution_count": 4,
   "metadata": {},
   "outputs": [],
   "source": [
    "gamma = sp.symbols(r'\\gamma', positive=True)"
   ]
  },
  {
   "cell_type": "code",
   "execution_count": 5,
   "metadata": {},
   "outputs": [],
   "source": [
    "v = q / rho"
   ]
  },
  {
   "cell_type": "code",
   "execution_count": 6,
   "metadata": {},
   "outputs": [],
   "source": [
    "eps = e / rho - 0.5 * v ** 2"
   ]
  },
  {
   "cell_type": "code",
   "execution_count": 7,
   "metadata": {},
   "outputs": [],
   "source": [
    "p = (gamma - 1) * rho * eps"
   ]
  },
  {
   "cell_type": "code",
   "execution_count": 8,
   "metadata": {},
   "outputs": [],
   "source": [
    "u = sp.Matrix([rho, q, e])"
   ]
  },
  {
   "cell_type": "code",
   "execution_count": 9,
   "metadata": {},
   "outputs": [],
   "source": [
    "f = sp.Matrix([q, rho * v ** 2 + p, (e + p) * v])"
   ]
  },
  {
   "cell_type": "code",
   "execution_count": 10,
   "metadata": {},
   "outputs": [
    {
     "data": {
      "text/latex": [
       "$\\displaystyle \\left[\\begin{matrix}\\rho\\\\q\\\\e\\end{matrix}\\right]$"
      ],
      "text/plain": [
       "Matrix([\n",
       "[\\rho],\n",
       "[   q],\n",
       "[   e]])"
      ]
     },
     "execution_count": 10,
     "metadata": {},
     "output_type": "execute_result"
    }
   ],
   "source": [
    "u"
   ]
  },
  {
   "cell_type": "code",
   "execution_count": 11,
   "metadata": {},
   "outputs": [
    {
     "data": {
      "text/latex": [
       "$\\displaystyle \\left[\\begin{matrix}q\\\\\\rho \\left(\\gamma - 1\\right) \\left(\\frac{e}{\\rho} - \\frac{0.5 q^{2}}{\\rho^{2}}\\right) + \\frac{q^{2}}{\\rho}\\\\\\frac{q \\left(\\rho \\left(\\gamma - 1\\right) \\left(\\frac{e}{\\rho} - \\frac{0.5 q^{2}}{\\rho^{2}}\\right) + e\\right)}{\\rho}\\end{matrix}\\right]$"
      ],
      "text/plain": [
       "Matrix([\n",
       "[                                                         q],\n",
       "[ \\rho*(\\gamma - 1)*(e/\\rho - 0.5*q**2/\\rho**2) + q**2/\\rho],\n",
       "[q*(\\rho*(\\gamma - 1)*(e/\\rho - 0.5*q**2/\\rho**2) + e)/\\rho]])"
      ]
     },
     "execution_count": 11,
     "metadata": {},
     "output_type": "execute_result"
    }
   ],
   "source": [
    "f"
   ]
  },
  {
   "cell_type": "code",
   "execution_count": 12,
   "metadata": {},
   "outputs": [],
   "source": [
    "j: sp.Matrix = f.jacobian(u)"
   ]
  },
  {
   "cell_type": "code",
   "execution_count": 13,
   "metadata": {},
   "outputs": [],
   "source": [
    "j.simplify()"
   ]
  },
  {
   "cell_type": "code",
   "execution_count": 14,
   "metadata": {},
   "outputs": [
    {
     "data": {
      "text/latex": [
       "$\\displaystyle \\left[\\begin{matrix}0 & 1 & 0\\\\\\frac{q^{2} \\cdot \\left(0.5 \\gamma - 1.5\\right)}{\\rho^{2}} & \\frac{q \\left(3.0 - 1.0 \\gamma\\right)}{\\rho} & \\gamma - 1\\\\\\frac{1.0 q \\left(- \\gamma \\rho e + \\gamma q^{2} - q^{2}\\right)}{\\rho^{3}} & \\frac{1.0 \\cdot \\left(1.0 \\gamma \\rho e - 1.5 \\gamma q^{2} + 1.5 q^{2}\\right)}{\\rho^{2}} & \\frac{\\gamma q}{\\rho}\\end{matrix}\\right]$"
      ],
      "text/plain": [
       "Matrix([\n",
       "[                                                  0,                                                            1,             0],\n",
       "[                    q**2*(0.5*\\gamma - 1.5)/\\rho**2,                                    q*(3.0 - 1.0*\\gamma)/\\rho,    \\gamma - 1],\n",
       "[1.0*q*(-\\gamma*\\rho*e + \\gamma*q**2 - q**2)/\\rho**3, 1.0*(1.0*\\gamma*\\rho*e - 1.5*\\gamma*q**2 + 1.5*q**2)/\\rho**2, \\gamma*q/\\rho]])"
      ]
     },
     "execution_count": 14,
     "metadata": {},
     "output_type": "execute_result"
    }
   ],
   "source": [
    "j"
   ]
  },
  {
   "cell_type": "code",
   "execution_count": 15,
   "metadata": {},
   "outputs": [],
   "source": [
    "v = sp.symbols('v', real=True)"
   ]
  },
  {
   "cell_type": "code",
   "execution_count": 16,
   "metadata": {},
   "outputs": [],
   "source": [
    "cs = sp.symbols(r'c_s', positive=True)"
   ]
  },
  {
   "cell_type": "code",
   "execution_count": 17,
   "metadata": {},
   "outputs": [],
   "source": [
    "j: sp.Matrix = j.subs(q, rho * v)"
   ]
  },
  {
   "cell_type": "code",
   "execution_count": 18,
   "metadata": {},
   "outputs": [],
   "source": [
    "# j: sp.Matrix = j.subs((gamma - 1)*(-0.5 * v ** 2 + e / rho), p / rho)"
   ]
  },
  {
   "cell_type": "code",
   "execution_count": 19,
   "metadata": {},
   "outputs": [],
   "source": [
    "j.simplify()"
   ]
  },
  {
   "cell_type": "code",
   "execution_count": 20,
   "metadata": {},
   "outputs": [
    {
     "data": {
      "text/latex": [
       "$\\displaystyle \\left[\\begin{matrix}0 & 1 & 0\\\\v^{2} \\cdot \\left(0.5 \\gamma - 1.5\\right) & v \\left(3.0 - 1.0 \\gamma\\right) & \\gamma - 1\\\\\\frac{1.0 v \\left(\\gamma \\rho v^{2} - \\gamma e - \\rho v^{2}\\right)}{\\rho} & - 1.5 \\gamma v^{2} + \\frac{1.0 \\gamma e}{\\rho} + 1.5 v^{2} & \\gamma v\\end{matrix}\\right]$"
      ],
      "text/plain": [
       "Matrix([\n",
       "[                                                   0,                                               1,          0],\n",
       "[                             v**2*(0.5*\\gamma - 1.5),                            v*(3.0 - 1.0*\\gamma), \\gamma - 1],\n",
       "[1.0*v*(\\gamma*\\rho*v**2 - \\gamma*e - \\rho*v**2)/\\rho, -1.5*\\gamma*v**2 + 1.0*\\gamma*e/\\rho + 1.5*v**2,   \\gamma*v]])"
      ]
     },
     "execution_count": 20,
     "metadata": {},
     "output_type": "execute_result"
    }
   ],
   "source": [
    "j"
   ]
  },
  {
   "cell_type": "code",
   "execution_count": 21,
   "metadata": {},
   "outputs": [],
   "source": [
    "j[2, 0] = v ** 3 * (0.5 * gamma - 1) - v * cs ** 2 / (gamma - 1)"
   ]
  },
  {
   "cell_type": "code",
   "execution_count": 22,
   "metadata": {},
   "outputs": [],
   "source": [
    "j[2, 1] = cs ** 2 / (gamma - 1) - (gamma - 1.5) * v ** 2"
   ]
  },
  {
   "cell_type": "code",
   "execution_count": 23,
   "metadata": {},
   "outputs": [
    {
     "data": {
      "text/latex": [
       "$\\displaystyle \\left[\\begin{matrix}0 & 1 & 0\\\\v^{2} \\cdot \\left(0.5 \\gamma - 1.5\\right) & v \\left(3.0 - 1.0 \\gamma\\right) & \\gamma - 1\\\\- \\frac{c_{s}^{2} v}{\\gamma - 1} + v^{3} \\cdot \\left(0.5 \\gamma - 1\\right) & \\frac{c_{s}^{2}}{\\gamma - 1} - v^{2} \\left(\\gamma - 1.5\\right) & \\gamma v\\end{matrix}\\right]$"
      ],
      "text/plain": [
       "Matrix([\n",
       "[                                             0,                                         1,          0],\n",
       "[                       v**2*(0.5*\\gamma - 1.5),                      v*(3.0 - 1.0*\\gamma), \\gamma - 1],\n",
       "[-c_s**2*v/(\\gamma - 1) + v**3*(0.5*\\gamma - 1), c_s**2/(\\gamma - 1) - v**2*(\\gamma - 1.5),   \\gamma*v]])"
      ]
     },
     "execution_count": 23,
     "metadata": {},
     "output_type": "execute_result"
    }
   ],
   "source": [
    "j"
   ]
  },
  {
   "cell_type": "code",
   "execution_count": 24,
   "metadata": {},
   "outputs": [],
   "source": [
    "eigvals = j.eigenvals()"
   ]
  },
  {
   "cell_type": "code",
   "execution_count": 25,
   "metadata": {},
   "outputs": [
    {
     "data": {
      "text/plain": [
       "{1.0*v: 1, -1.0*c_s + 1.0*v: 1, 1.0*c_s + 1.0*v: 1}"
      ]
     },
     "execution_count": 25,
     "metadata": {},
     "output_type": "execute_result"
    }
   ],
   "source": [
    "eigvals"
   ]
  },
  {
   "cell_type": "code",
   "execution_count": 26,
   "metadata": {},
   "outputs": [],
   "source": [
    "eigvects = j.eigenvects()"
   ]
  },
  {
   "cell_type": "code",
   "execution_count": 27,
   "metadata": {},
   "outputs": [],
   "source": [
    "r0: sp.Matrix = eigvects[0][2][0]"
   ]
  },
  {
   "cell_type": "code",
   "execution_count": 28,
   "metadata": {},
   "outputs": [
    {
     "data": {
      "text/latex": [
       "$\\displaystyle \\left[\\begin{matrix}\\frac{2.0}{v^{2}}\\\\\\frac{2.0}{v}\\\\1.0\\end{matrix}\\right]$"
      ],
      "text/plain": [
       "Matrix([\n",
       "[2.0/v**2],\n",
       "[   2.0/v],\n",
       "[     1.0]])"
      ]
     },
     "execution_count": 28,
     "metadata": {},
     "output_type": "execute_result"
    }
   ],
   "source": [
    "r0"
   ]
  },
  {
   "cell_type": "code",
   "execution_count": 29,
   "metadata": {},
   "outputs": [],
   "source": [
    "r1: sp.Matrix = eigvects[1][2][0]"
   ]
  },
  {
   "cell_type": "code",
   "execution_count": 30,
   "metadata": {},
   "outputs": [
    {
     "data": {
      "text/latex": [
       "$\\displaystyle \\left[\\begin{matrix}\\frac{2.0 \\gamma - 2.0}{- 2.0 \\gamma c_{s} v + \\gamma v^{2} + 2.0 c_{s}^{2} + 2.0 c_{s} v - v^{2}}\\\\\\frac{- 2.0 \\gamma c_{s} + 2.0 \\gamma v + 2.0 c_{s} - 2.0 v}{- 2.0 \\gamma c_{s} v + \\gamma v^{2} + 2.0 c_{s}^{2} + 2.0 c_{s} v - v^{2}}\\\\1.0\\end{matrix}\\right]$"
      ],
      "text/plain": [
       "Matrix([\n",
       "[                                (2.0*\\gamma - 2.0)/(-2.0*\\gamma*c_s*v + \\gamma*v**2 + 2.0*c_s**2 + 2.0*c_s*v - v**2)],\n",
       "[(-2.0*\\gamma*c_s + 2.0*\\gamma*v + 2.0*c_s - 2.0*v)/(-2.0*\\gamma*c_s*v + \\gamma*v**2 + 2.0*c_s**2 + 2.0*c_s*v - v**2)],\n",
       "[                                                                                                                 1.0]])"
      ]
     },
     "execution_count": 30,
     "metadata": {},
     "output_type": "execute_result"
    }
   ],
   "source": [
    "r1"
   ]
  },
  {
   "cell_type": "code",
   "execution_count": 31,
   "metadata": {},
   "outputs": [],
   "source": [
    "r2: sp.Matrix = eigvects[2][2][0]"
   ]
  },
  {
   "cell_type": "code",
   "execution_count": 32,
   "metadata": {},
   "outputs": [
    {
     "data": {
      "text/latex": [
       "$\\displaystyle \\left[\\begin{matrix}\\frac{2.0 \\gamma - 2.0}{2.0 \\gamma c_{s} v + \\gamma v^{2} + 2.0 c_{s}^{2} - 2.0 c_{s} v - v^{2}}\\\\\\frac{2.0 \\gamma c_{s} + 2.0 \\gamma v - 2.0 c_{s} - 2.0 v}{2.0 \\gamma c_{s} v + \\gamma v^{2} + 2.0 c_{s}^{2} - 2.0 c_{s} v - v^{2}}\\\\1.0\\end{matrix}\\right]$"
      ],
      "text/plain": [
       "Matrix([\n",
       "[                               (2.0*\\gamma - 2.0)/(2.0*\\gamma*c_s*v + \\gamma*v**2 + 2.0*c_s**2 - 2.0*c_s*v - v**2)],\n",
       "[(2.0*\\gamma*c_s + 2.0*\\gamma*v - 2.0*c_s - 2.0*v)/(2.0*\\gamma*c_s*v + \\gamma*v**2 + 2.0*c_s**2 - 2.0*c_s*v - v**2)],\n",
       "[                                                                                                               1.0]])"
      ]
     },
     "execution_count": 32,
     "metadata": {},
     "output_type": "execute_result"
    }
   ],
   "source": [
    "r2"
   ]
  },
  {
   "cell_type": "code",
   "execution_count": 33,
   "metadata": {},
   "outputs": [],
   "source": [
    "C = sp.Matrix([[r0, r1, r2]])"
   ]
  },
  {
   "cell_type": "code",
   "execution_count": 34,
   "metadata": {},
   "outputs": [
    {
     "data": {
      "text/latex": [
       "$\\displaystyle \\left[\\begin{matrix}\\frac{2.0}{v^{2}} & \\frac{2.0 \\gamma - 2.0}{- 2.0 \\gamma c_{s} v + \\gamma v^{2} + 2.0 c_{s}^{2} + 2.0 c_{s} v - v^{2}} & \\frac{2.0 \\gamma - 2.0}{2.0 \\gamma c_{s} v + \\gamma v^{2} + 2.0 c_{s}^{2} - 2.0 c_{s} v - v^{2}}\\\\\\frac{2.0}{v} & \\frac{- 2.0 \\gamma c_{s} + 2.0 \\gamma v + 2.0 c_{s} - 2.0 v}{- 2.0 \\gamma c_{s} v + \\gamma v^{2} + 2.0 c_{s}^{2} + 2.0 c_{s} v - v^{2}} & \\frac{2.0 \\gamma c_{s} + 2.0 \\gamma v - 2.0 c_{s} - 2.0 v}{2.0 \\gamma c_{s} v + \\gamma v^{2} + 2.0 c_{s}^{2} - 2.0 c_{s} v - v^{2}}\\\\1.0 & 1.0 & 1.0\\end{matrix}\\right]$"
      ],
      "text/plain": [
       "Matrix([\n",
       "[2.0/v**2,                                 (2.0*\\gamma - 2.0)/(-2.0*\\gamma*c_s*v + \\gamma*v**2 + 2.0*c_s**2 + 2.0*c_s*v - v**2),                                (2.0*\\gamma - 2.0)/(2.0*\\gamma*c_s*v + \\gamma*v**2 + 2.0*c_s**2 - 2.0*c_s*v - v**2)],\n",
       "[   2.0/v, (-2.0*\\gamma*c_s + 2.0*\\gamma*v + 2.0*c_s - 2.0*v)/(-2.0*\\gamma*c_s*v + \\gamma*v**2 + 2.0*c_s**2 + 2.0*c_s*v - v**2), (2.0*\\gamma*c_s + 2.0*\\gamma*v - 2.0*c_s - 2.0*v)/(2.0*\\gamma*c_s*v + \\gamma*v**2 + 2.0*c_s**2 - 2.0*c_s*v - v**2)],\n",
       "[     1.0,                                                                                                                  1.0,                                                                                                                1.0]])"
      ]
     },
     "execution_count": 34,
     "metadata": {},
     "output_type": "execute_result"
    }
   ],
   "source": [
    "C"
   ]
  },
  {
   "cell_type": "code",
   "execution_count": 35,
   "metadata": {},
   "outputs": [],
   "source": [
    "lefteigvects = j.left_eigenvects()"
   ]
  },
  {
   "cell_type": "code",
   "execution_count": 36,
   "metadata": {},
   "outputs": [],
   "source": [
    "l0 = lefteigvects[0][2][0]"
   ]
  },
  {
   "cell_type": "code",
   "execution_count": 37,
   "metadata": {},
   "outputs": [
    {
     "data": {
      "text/latex": [
       "$\\displaystyle \\left[\\begin{matrix}\\frac{\\gamma v^{2} - 2.0 c_{s}^{2} - v^{2}}{2.0 \\gamma - 2.0} & - v & 1.0\\end{matrix}\\right]$"
      ],
      "text/plain": [
       "Matrix([[(\\gamma*v**2 - 2.0*c_s**2 - v**2)/(2.0*\\gamma - 2.0), -v, 1.0]])"
      ]
     },
     "execution_count": 37,
     "metadata": {},
     "output_type": "execute_result"
    }
   ],
   "source": [
    "l0"
   ]
  },
  {
   "cell_type": "code",
   "execution_count": 38,
   "metadata": {},
   "outputs": [],
   "source": [
    "l1 = lefteigvects[1][2][0]"
   ]
  },
  {
   "cell_type": "code",
   "execution_count": 39,
   "metadata": {},
   "outputs": [
    {
     "data": {
      "text/latex": [
       "$\\displaystyle \\left[\\begin{matrix}\\frac{\\gamma v^{2} + 2.0 c_{s} v - v^{2}}{2.0 \\gamma - 2.0} & \\frac{- \\gamma v - c_{s} + v}{\\gamma - 1.0} & 1.0\\end{matrix}\\right]$"
      ],
      "text/plain": [
       "Matrix([[(\\gamma*v**2 + 2.0*c_s*v - v**2)/(2.0*\\gamma - 2.0), (-\\gamma*v - c_s + v)/(\\gamma - 1.0), 1.0]])"
      ]
     },
     "execution_count": 39,
     "metadata": {},
     "output_type": "execute_result"
    }
   ],
   "source": [
    "l1"
   ]
  },
  {
   "cell_type": "code",
   "execution_count": 40,
   "metadata": {},
   "outputs": [],
   "source": [
    "l2 = lefteigvects[2][2][0]"
   ]
  },
  {
   "cell_type": "code",
   "execution_count": 41,
   "metadata": {},
   "outputs": [
    {
     "data": {
      "text/latex": [
       "$\\displaystyle \\left[\\begin{matrix}\\frac{\\gamma v^{2} - 2.0 c_{s} v - v^{2}}{2.0 \\gamma - 2.0} & \\frac{- \\gamma v + c_{s} + v}{\\gamma - 1.0} & 1.0\\end{matrix}\\right]$"
      ],
      "text/plain": [
       "Matrix([[(\\gamma*v**2 - 2.0*c_s*v - v**2)/(2.0*\\gamma - 2.0), (-\\gamma*v + c_s + v)/(\\gamma - 1.0), 1.0]])"
      ]
     },
     "execution_count": 41,
     "metadata": {},
     "output_type": "execute_result"
    }
   ],
   "source": [
    "l2"
   ]
  },
  {
   "cell_type": "code",
   "execution_count": 42,
   "metadata": {},
   "outputs": [],
   "source": [
    "C_inv = sp.Matrix([l0, l1, l2])"
   ]
  },
  {
   "cell_type": "code",
   "execution_count": 43,
   "metadata": {},
   "outputs": [
    {
     "data": {
      "text/latex": [
       "$\\displaystyle \\left[\\begin{matrix}\\frac{\\gamma v^{2} - 2.0 c_{s}^{2} - v^{2}}{2.0 \\gamma - 2.0} & - v & 1.0\\\\\\frac{\\gamma v^{2} + 2.0 c_{s} v - v^{2}}{2.0 \\gamma - 2.0} & \\frac{- \\gamma v - c_{s} + v}{\\gamma - 1.0} & 1.0\\\\\\frac{\\gamma v^{2} - 2.0 c_{s} v - v^{2}}{2.0 \\gamma - 2.0} & \\frac{- \\gamma v + c_{s} + v}{\\gamma - 1.0} & 1.0\\end{matrix}\\right]$"
      ],
      "text/plain": [
       "Matrix([\n",
       "[(\\gamma*v**2 - 2.0*c_s**2 - v**2)/(2.0*\\gamma - 2.0),                                   -v, 1.0],\n",
       "[ (\\gamma*v**2 + 2.0*c_s*v - v**2)/(2.0*\\gamma - 2.0), (-\\gamma*v - c_s + v)/(\\gamma - 1.0), 1.0],\n",
       "[ (\\gamma*v**2 - 2.0*c_s*v - v**2)/(2.0*\\gamma - 2.0), (-\\gamma*v + c_s + v)/(\\gamma - 1.0), 1.0]])"
      ]
     },
     "execution_count": 43,
     "metadata": {},
     "output_type": "execute_result"
    }
   ],
   "source": [
    "C_inv"
   ]
  },
  {
   "cell_type": "code",
   "execution_count": 44,
   "metadata": {},
   "outputs": [],
   "source": [
    "P, D = j.diagonalize(reals_only=True)"
   ]
  },
  {
   "cell_type": "code",
   "execution_count": 45,
   "metadata": {},
   "outputs": [
    {
     "data": {
      "text/latex": [
       "$\\displaystyle \\left[\\begin{matrix}\\frac{2.0}{v^{2}} & \\frac{2.0 \\left(\\gamma - 1.0\\right)}{- 2.0 \\gamma c_{s} v + \\gamma v^{2} + 2.0 c_{s}^{2} + 2.0 c_{s} v - v^{2}} & \\frac{2.0 \\left(\\gamma - 1.0\\right)}{2.0 \\gamma c_{s} v + \\gamma v^{2} + 2.0 c_{s}^{2} - 2.0 c_{s} v - v^{2}}\\\\\\frac{2.0}{v} & \\frac{2.0 \\left(- \\gamma c_{s} + \\gamma v + c_{s} - v\\right)}{- 2.0 \\gamma c_{s} v + \\gamma v^{2} + 2.0 c_{s}^{2} + 2.0 c_{s} v - v^{2}} & \\frac{2.0 \\left(\\gamma c_{s} + \\gamma v - c_{s} - v\\right)}{2.0 \\gamma c_{s} v + \\gamma v^{2} + 2.0 c_{s}^{2} - 2.0 c_{s} v - v^{2}}\\\\1.0 & 1.0 & 1.0\\end{matrix}\\right]$"
      ],
      "text/plain": [
       "Matrix([\n",
       "[2.0/v**2,                     2.0*(\\gamma - 1.0)/(-2.0*\\gamma*c_s*v + \\gamma*v**2 + 2.0*c_s**2 + 2.0*c_s*v - v**2),                    2.0*(\\gamma - 1.0)/(2.0*\\gamma*c_s*v + \\gamma*v**2 + 2.0*c_s**2 - 2.0*c_s*v - v**2)],\n",
       "[   2.0/v, 2.0*(-\\gamma*c_s + \\gamma*v + c_s - v)/(-2.0*\\gamma*c_s*v + \\gamma*v**2 + 2.0*c_s**2 + 2.0*c_s*v - v**2), 2.0*(\\gamma*c_s + \\gamma*v - c_s - v)/(2.0*\\gamma*c_s*v + \\gamma*v**2 + 2.0*c_s**2 - 2.0*c_s*v - v**2)],\n",
       "[     1.0,                                                                                                      1.0,                                                                                                    1.0]])"
      ]
     },
     "execution_count": 45,
     "metadata": {},
     "output_type": "execute_result"
    }
   ],
   "source": [
    "P"
   ]
  },
  {
   "cell_type": "code",
   "execution_count": 46,
   "metadata": {},
   "outputs": [
    {
     "data": {
      "text/latex": [
       "$\\displaystyle \\left[\\begin{matrix}v & 0 & 0\\\\0 & - c_{s} + v & 0\\\\0 & 0 & c_{s} + v\\end{matrix}\\right]$"
      ],
      "text/plain": [
       "Matrix([\n",
       "[v,        0,       0],\n",
       "[0, -c_s + v,       0],\n",
       "[0,        0, c_s + v]])"
      ]
     },
     "execution_count": 46,
     "metadata": {},
     "output_type": "execute_result"
    }
   ],
   "source": [
    "D"
   ]
  },
  {
   "cell_type": "code",
   "execution_count": 47,
   "metadata": {},
   "outputs": [],
   "source": [
    "P_inv, D = j.T.diagonalize(reals_only=True)"
   ]
  },
  {
   "cell_type": "code",
   "execution_count": 48,
   "metadata": {},
   "outputs": [
    {
     "data": {
      "text/latex": [
       "$\\displaystyle \\left[\\begin{matrix}v & 0 & 0\\\\0 & - c_{s} + v & 0\\\\0 & 0 & c_{s} + v\\end{matrix}\\right]$"
      ],
      "text/plain": [
       "Matrix([\n",
       "[v,        0,       0],\n",
       "[0, -c_s + v,       0],\n",
       "[0,        0, c_s + v]])"
      ]
     },
     "execution_count": 48,
     "metadata": {},
     "output_type": "execute_result"
    }
   ],
   "source": [
    "D"
   ]
  },
  {
   "cell_type": "code",
   "execution_count": 49,
   "metadata": {},
   "outputs": [
    {
     "data": {
      "text/latex": [
       "$\\displaystyle \\left[\\begin{matrix}\\frac{0.5 \\left(\\gamma v^{2} - 2.0 c_{s}^{2} - v^{2}\\right)}{\\gamma - 1.0} & \\frac{0.5 v \\left(\\gamma v + 2.0 c_{s} - v\\right)}{\\gamma - 1.0} & \\frac{0.5 v \\left(\\gamma v - 2.0 c_{s} - v\\right)}{\\gamma - 1.0}\\\\- v & \\frac{- \\gamma v - c_{s} + v}{\\gamma - 1.0} & \\frac{- \\gamma v + c_{s} + v}{\\gamma - 1.0}\\\\1.0 & 1.0 & 1.0\\end{matrix}\\right]$"
      ],
      "text/plain": [
       "Matrix([\n",
       "[0.5*(\\gamma*v**2 - 2.0*c_s**2 - v**2)/(\\gamma - 1.0), 0.5*v*(\\gamma*v + 2.0*c_s - v)/(\\gamma - 1.0), 0.5*v*(\\gamma*v - 2.0*c_s - v)/(\\gamma - 1.0)],\n",
       "[                                                  -v,          (-\\gamma*v - c_s + v)/(\\gamma - 1.0),          (-\\gamma*v + c_s + v)/(\\gamma - 1.0)],\n",
       "[                                                 1.0,                                           1.0,                                           1.0]])"
      ]
     },
     "execution_count": 49,
     "metadata": {},
     "output_type": "execute_result"
    }
   ],
   "source": [
    "P_inv"
   ]
  },
  {
   "cell_type": "code",
   "execution_count": 50,
   "metadata": {},
   "outputs": [],
   "source": [
    "prod = P * P_inv"
   ]
  },
  {
   "cell_type": "code",
   "execution_count": 51,
   "metadata": {},
   "outputs": [],
   "source": [
    "prod.simplify()"
   ]
  },
  {
   "cell_type": "code",
   "execution_count": 52,
   "metadata": {},
   "outputs": [
    {
     "data": {
      "text/latex": [
       "$\\displaystyle \\left[\\begin{matrix}- \\frac{2.0 v \\left(\\gamma - 1.0\\right)}{- 2.0 \\gamma c_{s} v + \\gamma v^{2} + 2.0 c_{s}^{2} + 2.0 c_{s} v - v^{2}} + \\frac{2.0 \\left(\\gamma - 1.0\\right)}{2.0 \\gamma c_{s} v + \\gamma v^{2} + 2.0 c_{s}^{2} - 2.0 c_{s} v - v^{2}} - \\frac{1.0 \\left(- \\gamma v^{2} + 2.0 c_{s}^{2} + v^{2}\\right)}{v^{2} \\left(\\gamma - 1.0\\right)} & \\frac{2.0 \\left(\\gamma - 1.0\\right)}{2.0 \\gamma c_{s} v + \\gamma v^{2} + 2.0 c_{s}^{2} - 2.0 c_{s} v - v^{2}} - \\frac{2.0 \\left(\\gamma v + c_{s} - v\\right)}{- 2.0 \\gamma c_{s} v + \\gamma v^{2} + 2.0 c_{s}^{2} + 2.0 c_{s} v - v^{2}} + \\frac{1.0 \\left(\\gamma v + 2.0 c_{s} - v\\right)}{v \\left(\\gamma - 1.0\\right)} & \\frac{2.0 \\left(\\gamma - 1.0\\right)}{2.0 \\gamma c_{s} v + \\gamma v^{2} + 2.0 c_{s}^{2} - 2.0 c_{s} v - v^{2}} + \\frac{2.0 \\left(- \\gamma v + c_{s} + v\\right)}{- 2.0 \\gamma c_{s} v + \\gamma v^{2} + 2.0 c_{s}^{2} + 2.0 c_{s} v - v^{2}} - \\frac{1.0 \\left(- \\gamma v + 2.0 c_{s} + v\\right)}{v \\left(\\gamma - 1.0\\right)}\\\\\\frac{2.0 v \\left(\\gamma c_{s} - \\gamma v - c_{s} + v\\right)}{- 2.0 \\gamma c_{s} v + \\gamma v^{2} + 2.0 c_{s}^{2} + 2.0 c_{s} v - v^{2}} + \\frac{2.0 \\left(\\gamma c_{s} + \\gamma v - c_{s} - v\\right)}{2.0 \\gamma c_{s} v + \\gamma v^{2} + 2.0 c_{s}^{2} - 2.0 c_{s} v - v^{2}} - \\frac{1.0 \\left(- \\gamma v^{2} + 2.0 c_{s}^{2} + v^{2}\\right)}{v \\left(\\gamma - 1.0\\right)} & \\frac{2.0 \\left(\\gamma c_{s} + \\gamma v - c_{s} - v\\right)}{2.0 \\gamma c_{s} v + \\gamma v^{2} + 2.0 c_{s}^{2} - 2.0 c_{s} v - v^{2}} + \\frac{2.0 \\left(\\gamma v + c_{s} - v\\right) \\left(\\gamma c_{s} - \\gamma v - c_{s} + v\\right)}{\\left(\\gamma - 1.0\\right) \\left(- 2.0 \\gamma c_{s} v + \\gamma v^{2} + 2.0 c_{s}^{2} + 2.0 c_{s} v - v^{2}\\right)} + \\frac{1.0 \\left(\\gamma v + 2.0 c_{s} - v\\right)}{\\gamma - 1.0} & \\frac{2.0 \\left(\\gamma c_{s} + \\gamma v - c_{s} - v\\right)}{2.0 \\gamma c_{s} v + \\gamma v^{2} + 2.0 c_{s}^{2} - 2.0 c_{s} v - v^{2}} - \\frac{2.0 \\left(- \\gamma v + c_{s} + v\\right) \\left(\\gamma c_{s} - \\gamma v - c_{s} + v\\right)}{\\left(\\gamma - 1.0\\right) \\left(- 2.0 \\gamma c_{s} v + \\gamma v^{2} + 2.0 c_{s}^{2} + 2.0 c_{s} v - v^{2}\\right)} - \\frac{1.0 \\left(- \\gamma v + 2.0 c_{s} + v\\right)}{\\gamma - 1.0}\\\\\\frac{0.5 \\gamma v^{2} - 1.0 c_{s}^{2} - 0.5 v^{2} + 1.0 \\cdot \\left(1 - v\\right) \\left(\\gamma - 1.0\\right)}{\\gamma - 1.0} & \\frac{- 1.0 \\gamma v + 1.0 \\gamma - 1.0 c_{s} + 0.5 v \\left(\\gamma v + 2.0 c_{s} - v\\right) + 1.0 v - 1.0}{\\gamma - 1.0} & \\frac{- 1.0 \\gamma v + 1.0 \\gamma + 1.0 c_{s} - 0.5 v \\left(- \\gamma v + 2.0 c_{s} + v\\right) + 1.0 v - 1.0}{\\gamma - 1.0}\\end{matrix}\\right]$"
      ],
      "text/plain": [
       "Matrix([\n",
       "[                                  -2.0*v*(\\gamma - 1.0)/(-2.0*\\gamma*c_s*v + \\gamma*v**2 + 2.0*c_s**2 + 2.0*c_s*v - v**2) + 2.0*(\\gamma - 1.0)/(2.0*\\gamma*c_s*v + \\gamma*v**2 + 2.0*c_s**2 - 2.0*c_s*v - v**2) - 1.0*(-\\gamma*v**2 + 2.0*c_s**2 + v**2)/(v**2*(\\gamma - 1.0)),                                                                   2.0*(\\gamma - 1.0)/(2.0*\\gamma*c_s*v + \\gamma*v**2 + 2.0*c_s**2 - 2.0*c_s*v - v**2) - 2.0*(\\gamma*v + c_s - v)/(-2.0*\\gamma*c_s*v + \\gamma*v**2 + 2.0*c_s**2 + 2.0*c_s*v - v**2) + 1.0*(\\gamma*v + 2.0*c_s - v)/(v*(\\gamma - 1.0)),                                                                   2.0*(\\gamma - 1.0)/(2.0*\\gamma*c_s*v + \\gamma*v**2 + 2.0*c_s**2 - 2.0*c_s*v - v**2) + 2.0*(-\\gamma*v + c_s + v)/(-2.0*\\gamma*c_s*v + \\gamma*v**2 + 2.0*c_s**2 + 2.0*c_s*v - v**2) - 1.0*(-\\gamma*v + 2.0*c_s + v)/(v*(\\gamma - 1.0))],\n",
       "[2.0*v*(\\gamma*c_s - \\gamma*v - c_s + v)/(-2.0*\\gamma*c_s*v + \\gamma*v**2 + 2.0*c_s**2 + 2.0*c_s*v - v**2) + 2.0*(\\gamma*c_s + \\gamma*v - c_s - v)/(2.0*\\gamma*c_s*v + \\gamma*v**2 + 2.0*c_s**2 - 2.0*c_s*v - v**2) - 1.0*(-\\gamma*v**2 + 2.0*c_s**2 + v**2)/(v*(\\gamma - 1.0)), 2.0*(\\gamma*c_s + \\gamma*v - c_s - v)/(2.0*\\gamma*c_s*v + \\gamma*v**2 + 2.0*c_s**2 - 2.0*c_s*v - v**2) + 2.0*(\\gamma*v + c_s - v)*(\\gamma*c_s - \\gamma*v - c_s + v)/((\\gamma - 1.0)*(-2.0*\\gamma*c_s*v + \\gamma*v**2 + 2.0*c_s**2 + 2.0*c_s*v - v**2)) + 1.0*(\\gamma*v + 2.0*c_s - v)/(\\gamma - 1.0), 2.0*(\\gamma*c_s + \\gamma*v - c_s - v)/(2.0*\\gamma*c_s*v + \\gamma*v**2 + 2.0*c_s**2 - 2.0*c_s*v - v**2) - 2.0*(-\\gamma*v + c_s + v)*(\\gamma*c_s - \\gamma*v - c_s + v)/((\\gamma - 1.0)*(-2.0*\\gamma*c_s*v + \\gamma*v**2 + 2.0*c_s**2 + 2.0*c_s*v - v**2)) - 1.0*(-\\gamma*v + 2.0*c_s + v)/(\\gamma - 1.0)],\n",
       "[                                                                                                                                                                                         (0.5*\\gamma*v**2 - 1.0*c_s**2 - 0.5*v**2 + 1.0*(1 - v)*(\\gamma - 1.0))/(\\gamma - 1.0),                                                                                                                                                                                                 (-1.0*\\gamma*v + 1.0*\\gamma - 1.0*c_s + 0.5*v*(\\gamma*v + 2.0*c_s - v) + 1.0*v - 1.0)/(\\gamma - 1.0),                                                                                                                                                                                                  (-1.0*\\gamma*v + 1.0*\\gamma + 1.0*c_s - 0.5*v*(-\\gamma*v + 2.0*c_s + v) + 1.0*v - 1.0)/(\\gamma - 1.0)]])"
      ]
     },
     "execution_count": 52,
     "metadata": {},
     "output_type": "execute_result"
    }
   ],
   "source": [
    "prod"
   ]
  }
 ],
 "metadata": {
  "kernelspec": {
   "display_name": "py3",
   "language": "python",
   "name": "python3"
  },
  "language_info": {
   "codemirror_mode": {
    "name": "ipython",
    "version": 3
   },
   "file_extension": ".py",
   "mimetype": "text/x-python",
   "name": "python",
   "nbconvert_exporter": "python",
   "pygments_lexer": "ipython3",
   "version": "3.12.4"
  }
 },
 "nbformat": 4,
 "nbformat_minor": 2
}
